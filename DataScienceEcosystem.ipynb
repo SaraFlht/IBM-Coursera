{
 "cells": [
  {
   "cell_type": "markdown",
   "id": "8d96e66f-c463-483e-80ed-ce302589a76d",
   "metadata": {},
   "source": [
    "# Data Science Tools and Ecosystem"
   ]
  },
  {
   "cell_type": "markdown",
   "id": "ace6b85b-6ee3-4b80-a922-13c82a7b1ae5",
   "metadata": {},
   "source": [
    "In this notebook, Data Science Tools and Ecosystem are summarized."
   ]
  },
  {
   "cell_type": "markdown",
   "id": "f1219684-9034-44fe-9170-9dce89a4a752",
   "metadata": {},
   "source": [
    "**Objectives:**\n",
    "- list data science languages\n",
    "- list data science libraries\n",
    "- Create a table of Data Science tools"
   ]
  },
  {
   "cell_type": "markdown",
   "id": "41f6253a-596f-4cd2-92aa-a05b17079a7a",
   "metadata": {},
   "source": [
    "Some of the popular languages that Data Scientists use are:\n",
    "1. Python\n",
    "2. R\n",
    "3. Matlab"
   ]
  },
  {
   "cell_type": "markdown",
   "id": "04a73c19-9d33-4bf2-a967-7ba28d96362a",
   "metadata": {},
   "source": [
    "Some of the commonly used libraries used by Data Scientists include:\n",
    "1. Matplotlib\n",
    "2. TensorFlow\n",
    "3. NLTK"
   ]
  },
  {
   "cell_type": "markdown",
   "id": "baa74ba2-0c99-4f24-b20c-b138cf3d97ca",
   "metadata": {},
   "source": [
    "|Data Science Tools|\n",
    "--------------------\n",
    "|Jupyter Notebook|\n",
    "|Rstudio|\n",
    "|VS Code|\n"
   ]
  },
  {
   "cell_type": "markdown",
   "id": "2982b39e-31ed-4ad7-a93c-288b5738e5b3",
   "metadata": {},
   "source": [
    "### Below are a few examples of evaluating arithmetic expressions in Python"
   ]
  },
  {
   "cell_type": "code",
   "execution_count": 4,
   "id": "efb4267d-3e0d-4361-9219-32482b237a2b",
   "metadata": {
    "tags": []
   },
   "outputs": [
    {
     "data": {
      "text/plain": [
       "17"
      ]
     },
     "execution_count": 4,
     "metadata": {},
     "output_type": "execute_result"
    }
   ],
   "source": [
    "#This a simple arithmetic expression to mutiply then add integers\n",
    "(3*4)+5"
   ]
  },
  {
   "cell_type": "code",
   "execution_count": 3,
   "id": "d162ab19-3329-44c6-9d07-203d1b31ac69",
   "metadata": {
    "tags": []
   },
   "outputs": [
    {
     "data": {
      "text/plain": [
       "3.3333333333333335"
      ]
     },
     "execution_count": 3,
     "metadata": {},
     "output_type": "execute_result"
    }
   ],
   "source": [
    "#This will convert 200 minutes to hours by diving by 60\n",
    "200/60"
   ]
  },
  {
   "cell_type": "markdown",
   "id": "621ce961-e81d-432c-aefc-e09bda73a133",
   "metadata": {},
   "source": [
    "## Author\n",
    "Sara "
   ]
  },
  {
   "cell_type": "code",
   "execution_count": null,
   "id": "d80d3bd2-368b-415e-9711-32402a8ad455",
   "metadata": {},
   "outputs": [],
   "source": []
  }
 ],
 "metadata": {
  "kernelspec": {
   "display_name": "Python",
   "language": "python",
   "name": "conda-env-python-py"
  },
  "language_info": {
   "codemirror_mode": {
    "name": "ipython",
    "version": 3
   },
   "file_extension": ".py",
   "mimetype": "text/x-python",
   "name": "python",
   "nbconvert_exporter": "python",
   "pygments_lexer": "ipython3",
   "version": "3.7.12"
  }
 },
 "nbformat": 4,
 "nbformat_minor": 5
}
